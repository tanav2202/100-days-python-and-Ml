{
 "cells": [
  {
   "cell_type": "markdown",
   "source": [
    "Importing packages"
   ],
   "metadata": {}
  },
  {
   "cell_type": "code",
   "execution_count": null,
   "source": [
    "import numpy as np\n",
    "import scipy.stats as st #not yet used but will"
   ],
   "outputs": [],
   "metadata": {}
  },
  {
   "cell_type": "markdown",
   "source": [
    "Uniform Distribution ( n is number of possible events m is the number of repitions)"
   ],
   "metadata": {}
  },
  {
   "cell_type": "code",
   "execution_count": null,
   "source": [
    "def uniform(n, m):\n",
    "  return np.random.randint(1, n+1, size = m)"
   ],
   "outputs": [],
   "metadata": {}
  },
  {
   "cell_type": "markdown",
   "source": [
    "Basic Coin Problem to Test it ( Heads is 1 and Tails is 2)"
   ],
   "metadata": {}
  },
  {
   "cell_type": "code",
   "execution_count": null,
   "source": [
    "print(uniform(2, 1))\n",
    "print(uniform(2, 10))\n",
    "print(uniform(2,100))"
   ],
   "outputs": [],
   "metadata": {}
  },
  {
   "cell_type": "markdown",
   "source": [
    "Basic Dice Problem to Test this (Output is Numbers on the dice)"
   ],
   "metadata": {}
  },
  {
   "cell_type": "code",
   "execution_count": null,
   "source": [
    "print(uniform(6, 1))\n",
    "print(uniform(6, 10))\n",
    "print(uniform(6,100))"
   ],
   "outputs": [],
   "metadata": {}
  },
  {
   "cell_type": "markdown",
   "source": [
    "Monte Carlo Simulation ( Probably the simplest method to find Probability)\n",
    "Works Best where test cases are a lot."
   ],
   "metadata": {}
  },
  {
   "cell_type": "markdown",
   "source": [
    "Monte Carlo on Coin Toss (1000 times)"
   ],
   "metadata": {}
  },
  {
   "cell_type": "code",
   "execution_count": null,
   "source": [
    "#probability for heads\n",
    "\n",
    "no_heads=0\n",
    "for i in range(1000):\n",
    "    if uniform(2,1)==1:\n",
    "        no_heads=no_heads+1\n",
    "print(no_heads/1000)        "
   ],
   "outputs": [],
   "metadata": {}
  },
  {
   "cell_type": "markdown",
   "source": [
    "Monty Hall Problem (Estimating By Monte Carlo) \n",
    "\n",
    "  Suppose you're on a game show, and you're given the choice of three doors: Behind one door is a car; behind the others, goats. You pick a door, say No. 1, and the host, who knows what's behind the doors, opens another door, say No. 3, which has a goat. He then says to you, \"Do you want to pick door No. 2?\" Is it to your advantage to switch your choice?"
   ],
   "metadata": {}
  },
  {
   "cell_type": "code",
   "execution_count": null,
   "source": [
    "no = 0   \n",
    "for i in range(10000):\n",
    "  car_loc = uniform(3, 1)\n",
    "  if car_loc == 1:\n",
    "    goat1_loc = 2; goat2_loc = 3\n",
    "  elif car_loc == 2:\n",
    "    goat1_loc = 1; goat2_loc = 3\n",
    "  else:\n",
    "    goat1_loc = 1; goat2_loc = 2\n",
    "\n",
    "  contestant_orig = uniform(3, 1)\n",
    "  if contestant_orig == goat1_loc:\n",
    "    host_reveal_loc = goat2_loc; other_closed_door = car_loc\n",
    "  elif contestant_orig == goat2_loc:\n",
    "    host_reveal_loc = goat1_loc; other_closed_door = car_loc\n",
    "  else:\n",
    "    host_reveal_loc = goat1_loc; other_closed_door = goat2_loc\n",
    "  if other_closed_door == car_loc:\n",
    "    no = no + 1\n",
    "\n",
    "print(no/10000) #probability estimate by Monte Carlo"
   ],
   "outputs": [],
   "metadata": {}
  },
  {
   "cell_type": "markdown",
   "source": [
    "Same Birthday Problem (n= number of people)"
   ],
   "metadata": {}
  },
  {
   "cell_type": "code",
   "execution_count": null,
   "source": [
    "n=110\n",
    "print(1 - np.prod(1-np.arange(1,n)/365))"
   ],
   "outputs": [],
   "metadata": {}
  },
  {
   "cell_type": "markdown",
   "source": [
    "*Bayes Theorem (Conditional Probabiliy)*\n",
    "\n",
    "P(A) is usually found using Total Probability Theorem \n",
    "(!B represents B's Complement)\n",
    "\n",
    "P(A)=P(A|B)* P(B) + P(A|!B) * P(!B)\n",
    "\n",
    "Formula for Bayes Theorem = P(B|A) = P(B)*P(A|B)/P(A)"
   ],
   "metadata": {}
  },
  {
   "cell_type": "code",
   "execution_count": null,
   "source": [
    "def bayes_theorem(Pb,Pab,Panb):\n",
    "    Pa=Pab*Pb + Panb*(1-Pb)\n",
    "    Pba=Pb*Pab/Pa\n",
    "    return Pba"
   ],
   "outputs": [],
   "metadata": {}
  },
  {
   "cell_type": "markdown",
   "source": [
    "Swine Flu Test (will work in all places to test for accuracy of a medical test)\n",
    "Probability Person has swine flu = 1% (P(B))\n",
    "\n",
    "Flue Test: 95% people Test positive (P(A|B))\n",
    "        2% people have a false positive (P(A|!B))\n",
    "\n",
    "What is percentage that Random person has Swine Flu when  his test shows positive?\n"
   ],
   "metadata": {}
  },
  {
   "cell_type": "code",
   "execution_count": null,
   "source": [
    "#values from the question\n",
    "Pb=0.01\n",
    "Pab=0.95\n",
    "Panb=0.02\n",
    "\n",
    "print(bayes_theorem(Pb,Pab,Panb)*100,\"%\")\n"
   ],
   "outputs": [],
   "metadata": {}
  }
 ],
 "metadata": {
  "orig_nbformat": 4,
  "language_info": {
   "name": "python",
   "version": "3.9.7",
   "mimetype": "text/x-python",
   "codemirror_mode": {
    "name": "ipython",
    "version": 3
   },
   "pygments_lexer": "ipython3",
   "nbconvert_exporter": "python",
   "file_extension": ".py"
  },
  "kernelspec": {
   "name": "python3",
   "display_name": "Python 3.9.7 64-bit"
  },
  "interpreter": {
   "hash": "e7370f93d1d0cde622a1f8e1c04877d8463912d04d973331ad4851f04de6915a"
  }
 },
 "nbformat": 4,
 "nbformat_minor": 2
}