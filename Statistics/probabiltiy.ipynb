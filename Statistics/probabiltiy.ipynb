{
 "cells": [
  {
   "cell_type": "markdown",
   "metadata": {},
   "source": [
    "Importing packages"
   ]
  },
  {
   "cell_type": "code",
   "execution_count": 1,
   "metadata": {},
   "outputs": [],
   "source": [
    "import numpy as np\n",
    "import scipy.stats as st #not yet used but will"
   ]
  },
  {
   "cell_type": "markdown",
   "metadata": {},
   "source": [
    "Uniform Distribution ( n is number of possible events m is the number of repitions)"
   ]
  },
  {
   "cell_type": "code",
   "execution_count": 2,
   "metadata": {},
   "outputs": [],
   "source": [
    "def uniform(n, m):\n",
    "  return np.random.randint(1, n+1, size = m)"
   ]
  },
  {
   "cell_type": "markdown",
   "metadata": {},
   "source": [
    "Basic Coin Problem to Test it ( Heads is 1 and Tails is 2)"
   ]
  },
  {
   "cell_type": "code",
   "execution_count": 3,
   "metadata": {},
   "outputs": [
    {
     "name": "stdout",
     "output_type": "stream",
     "text": [
      "[1]\n",
      "[2 2 1 2 2 2 1 2 2 1]\n",
      "[1 2 1 2 2 1 1 2 1 1 2 1 2 1 1 1 2 2 2 1 1 2 1 1 2 1 2 2 2 1 1 2 1 1 1 1 1\n",
      " 2 2 2 1 2 1 2 1 2 2 2 2 1 2 1 1 2 1 2 1 2 1 2 1 1 2 2 2 2 2 1 2 1 1 2 2 2\n",
      " 1 2 2 1 1 2 1 1 1 2 1 1 1 1 2 2 2 2 1 2 1 2 1 1 2 2]\n"
     ]
    }
   ],
   "source": [
    "print(uniform(2, 1))\n",
    "print(uniform(2, 10))\n",
    "print(uniform(2,100))"
   ]
  },
  {
   "cell_type": "markdown",
   "metadata": {},
   "source": [
    "Basic Dice Problem to Test this (Output is Numbers on the dice)"
   ]
  },
  {
   "cell_type": "code",
   "execution_count": 4,
   "metadata": {},
   "outputs": [
    {
     "name": "stdout",
     "output_type": "stream",
     "text": [
      "[6]\n",
      "[4 3 1 6 5 4 5 4 4 5]\n",
      "[3 6 6 4 6 3 2 4 3 5 4 2 2 5 4 3 2 3 6 6 1 6 3 6 4 1 5 6 4 3 1 6 2 4 1 5 3\n",
      " 6 1 3 5 3 3 4 1 2 4 2 2 2 1 2 2 1 1 1 4 6 4 6 1 1 6 5 6 2 6 3 4 4 6 5 6 4\n",
      " 5 2 3 3 1 6 6 4 5 5 5 1 6 4 3 4 6 2 3 1 1 5 3 2 4 3]\n"
     ]
    }
   ],
   "source": [
    "print(uniform(6, 1))\n",
    "print(uniform(6, 10))\n",
    "print(uniform(6,100))"
   ]
  },
  {
   "cell_type": "markdown",
   "metadata": {},
   "source": [
    "Monte Carlo Simulation ( Probably the simplest method to find Probability)\n",
    "Works Best where test cases are a lot."
   ]
  },
  {
   "cell_type": "markdown",
   "metadata": {},
   "source": [
    "Monte Carlo on Coin Toss (1000 times)"
   ]
  },
  {
   "cell_type": "code",
   "execution_count": 5,
   "metadata": {},
   "outputs": [
    {
     "name": "stdout",
     "output_type": "stream",
     "text": [
      "0.499\n"
     ]
    }
   ],
   "source": [
    "#probability for heads\n",
    "\n",
    "no_heads=0\n",
    "for i in range(1000):\n",
    "    if uniform(2,1)==1:\n",
    "        no_heads=no_heads+1\n",
    "print(no_heads/1000)        "
   ]
  },
  {
   "cell_type": "markdown",
   "metadata": {},
   "source": [
    "Monty Hall Problem (Estimating By Monte Carlo) \n",
    "\n",
    "  Suppose you're on a game show, and you're given the choice of three doors: Behind one door is a car; behind the others, goats. You pick a door, say No. 1, and the host, who knows what's behind the doors, opens another door, say No. 3, which has a goat. He then says to you, \"Do you want to pick door No. 2?\" Is it to your advantage to switch your choice?"
   ]
  },
  {
   "cell_type": "code",
   "execution_count": 6,
   "metadata": {},
   "outputs": [
    {
     "name": "stdout",
     "output_type": "stream",
     "text": [
      "0.6694\n"
     ]
    }
   ],
   "source": [
    "no = 0   \n",
    "for i in range(10000):\n",
    "  car_loc = uniform(3, 1)\n",
    "  if car_loc == 1:\n",
    "    goat1_loc = 2; goat2_loc = 3\n",
    "  elif car_loc == 2:\n",
    "    goat1_loc = 1; goat2_loc = 3\n",
    "  else:\n",
    "    goat1_loc = 1; goat2_loc = 2\n",
    "\n",
    "  contestant_orig = uniform(3, 1)\n",
    "  if contestant_orig == goat1_loc:\n",
    "    host_reveal_loc = goat2_loc; other_closed_door = car_loc\n",
    "  elif contestant_orig == goat2_loc:\n",
    "    host_reveal_loc = goat1_loc; other_closed_door = car_loc\n",
    "  else:\n",
    "    host_reveal_loc = goat1_loc; other_closed_door = goat2_loc\n",
    "  if other_closed_door == car_loc:\n",
    "    no = no + 1\n",
    "\n",
    "print(no/10000) #probability estimate by Monte Carlo"
   ]
  },
  {
   "cell_type": "markdown",
   "metadata": {},
   "source": [
    "Same Birthday Problem (n= number of people)"
   ]
  },
  {
   "cell_type": "code",
   "execution_count": 7,
   "metadata": {},
   "outputs": [
    {
     "name": "stdout",
     "output_type": "stream",
     "text": [
      "0.9999999894712943\n"
     ]
    }
   ],
   "source": [
    "n=110\n",
    "print(1 - np.prod(1-np.arange(1,n)/365))"
   ]
  },
  {
   "cell_type": "markdown",
   "metadata": {},
   "source": [
    "*Bayes Theorem (Conditional Probabiliy)*\n",
    "\n",
    "P(A) is usually found using Total Probability Theorem \n",
    "(!B represents B's Complement)\n",
    "\n",
    "P(A)=P(A|B)* P(B) + P(A|!B) * P(!B)\n",
    "\n",
    "Formula for Bayes Theorem = P(B|A) = P(B)*P(A|B)/P(A)"
   ]
  },
  {
   "cell_type": "code",
   "execution_count": 8,
   "metadata": {},
   "outputs": [],
   "source": [
    "def bayes_theorem(Pb,Pab,Panb):\n",
    "    Pa=Pab*Pb + Panb*(1-Pb)\n",
    "    Pba=Pb*Pab/Pa\n",
    "    return Pba"
   ]
  },
  {
   "cell_type": "markdown",
   "metadata": {},
   "source": [
    "Swine Flu Test (will work in all places to test for accuracy of a medical test)\n",
    "Probability Person has swine flu = 1% (P(B))\n",
    "\n",
    "Flue Test: 95% people Test positive (P(A|B))\n",
    "        2% people have a false positive (P(A|!B))\n",
    "\n",
    "What is percentage that Random person has Swine Flu when  his test shows positive?\n"
   ]
  },
  {
   "cell_type": "code",
   "execution_count": 9,
   "metadata": {},
   "outputs": [
    {
     "name": "stdout",
     "output_type": "stream",
     "text": [
      "32.42320819112628 %\n"
     ]
    }
   ],
   "source": [
    "#values from the question\n",
    "Pb=0.01\n",
    "Pab=0.95\n",
    "Panb=0.02\n",
    "\n",
    "print(bayes_theorem(Pb,Pab,Panb)*100,\"%\")\n"
   ]
  },
  {
   "cell_type": "markdown",
   "metadata": {},
   "source": [
    "Expected Value of Various Distributions "
   ]
  },
  {
   "cell_type": "code",
   "execution_count": 10,
   "metadata": {},
   "outputs": [
    {
     "name": "stdout",
     "output_type": "stream",
     "text": [
      "6.0\n",
      "6.16\n"
     ]
    }
   ],
   "source": [
    "#binomial(20,0.3)\n",
    "print(20*0.3) #expected value\n",
    "x = st.binom.rvs(20,0.3,size=1000)\n",
    "print(np.sum(x)/1000) #average value in simulation"
   ]
  },
  {
   "cell_type": "code",
   "execution_count": 11,
   "metadata": {},
   "outputs": [
    {
     "name": "stdout",
     "output_type": "stream",
     "text": [
      "3.3333333333333335\n",
      "3.259\n"
     ]
    }
   ],
   "source": [
    "#geometric(0.3)\n",
    "print(1/0.3) #expected value\n",
    "x = st.geom.rvs(0.3,size=1000)\n",
    "print(np.sum(x)/1000) #average value in simulation"
   ]
  },
  {
   "cell_type": "code",
   "execution_count": 12,
   "metadata": {},
   "outputs": [
    {
     "name": "stdout",
     "output_type": "stream",
     "text": [
      "6\n",
      "6.102\n"
     ]
    }
   ],
   "source": [
    "#Poisson(6)\n",
    "print(6) #expected value\n",
    "x = st.poisson.rvs(6,size=1000)\n",
    "print(np.sum(x)/1000) #average value in simulation"
   ]
  }
 ],
 "metadata": {
  "interpreter": {
   "hash": "e7370f93d1d0cde622a1f8e1c04877d8463912d04d973331ad4851f04de6915a"
  },
  "kernelspec": {
   "display_name": "Python 3.9.7 64-bit",
   "name": "python3"
  },
  "language_info": {
   "codemirror_mode": {
    "name": "ipython",
    "version": 3
   },
   "file_extension": ".py",
   "mimetype": "text/x-python",
   "name": "python",
   "nbconvert_exporter": "python",
   "pygments_lexer": "ipython3",
   "version": "3.9.7"
  },
  "orig_nbformat": 4
 },
 "nbformat": 4,
 "nbformat_minor": 2
}
